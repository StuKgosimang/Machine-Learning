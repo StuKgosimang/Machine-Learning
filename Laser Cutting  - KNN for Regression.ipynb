{
 "cells": [
  {
   "cell_type": "code",
   "execution_count": 1,
   "id": "361d733b",
   "metadata": {},
   "outputs": [],
   "source": [
    "#PROBLREM: PART OF MY RESEARCH IS TO MODEL AND OPTIMISE AN ADVANCED MANUFACTURING PROCESS CALLED CO2 LASER CUTTING.\n",
    "#THIS PROCESS WAS USED TO CUT 29 SIMILAR GEAR USING USING 4 INPUTS:LASER POWER, CUTTING SPEED, FOCAL POSITION AND \n",
    "#GAS PRESSURE. THE OUTPUTS WERE SURFACE ROUGHNESS(RZ AND RA), MATERIAL REMOVAL RATE (MRR) AND DIMENSIONAL DEVIATIONS(DD)\n",
    "#KNN FOR REGRESSION.\n",
    "#THIS MODEL PREDICTS RA USING THE 4 INPUTS"
   ]
  },
  {
   "cell_type": "code",
   "execution_count": 2,
   "id": "fc9933c6",
   "metadata": {},
   "outputs": [],
   "source": [
    "import pandas as pd\n",
    "import numpy as np"
   ]
  },
  {
   "cell_type": "code",
   "execution_count": 3,
   "id": "26b9786a",
   "metadata": {},
   "outputs": [],
   "source": [
    "import matplotlib.pyplot as plt\n",
    "%matplotlib inline"
   ]
  },
  {
   "cell_type": "code",
   "execution_count": 4,
   "id": "281d5cd9",
   "metadata": {},
   "outputs": [],
   "source": [
    "import seaborn as sns"
   ]
  },
  {
   "cell_type": "code",
   "execution_count": 5,
   "id": "52854c4d",
   "metadata": {},
   "outputs": [
    {
     "data": {
      "text/html": [
       "<div>\n",
       "<style scoped>\n",
       "    .dataframe tbody tr th:only-of-type {\n",
       "        vertical-align: middle;\n",
       "    }\n",
       "\n",
       "    .dataframe tbody tr th {\n",
       "        vertical-align: top;\n",
       "    }\n",
       "\n",
       "    .dataframe thead th {\n",
       "        text-align: right;\n",
       "    }\n",
       "</style>\n",
       "<table border=\"1\" class=\"dataframe\">\n",
       "  <thead>\n",
       "    <tr style=\"text-align: right;\">\n",
       "      <th></th>\n",
       "      <th>Std</th>\n",
       "      <th>Run</th>\n",
       "      <th>Laser power [W]</th>\n",
       "      <th>Cutting speed [m/min]</th>\n",
       "      <th>Focal position [mm]</th>\n",
       "      <th>Gas pressure [bar]</th>\n",
       "      <th>Rz [µm]</th>\n",
       "      <th>Ra [µm]</th>\n",
       "      <th>MRR</th>\n",
       "      <th>DD [%]</th>\n",
       "    </tr>\n",
       "  </thead>\n",
       "  <tbody>\n",
       "    <tr>\n",
       "      <th>0</th>\n",
       "      <td>NaN</td>\n",
       "      <td>NaN</td>\n",
       "      <td>NaN</td>\n",
       "      <td>NaN</td>\n",
       "      <td>NaN</td>\n",
       "      <td>NaN</td>\n",
       "      <td>NaN</td>\n",
       "      <td>NaN</td>\n",
       "      <td>[mm3/min]</td>\n",
       "      <td>NaN</td>\n",
       "    </tr>\n",
       "    <tr>\n",
       "      <th>1</th>\n",
       "      <td>1.0</td>\n",
       "      <td>11.0</td>\n",
       "      <td>1500.0</td>\n",
       "      <td>1.0</td>\n",
       "      <td>-2.5</td>\n",
       "      <td>13.0</td>\n",
       "      <td>3.69</td>\n",
       "      <td>0.74</td>\n",
       "      <td>2020.3</td>\n",
       "      <td>1.0264</td>\n",
       "    </tr>\n",
       "    <tr>\n",
       "      <th>2</th>\n",
       "      <td>2.0</td>\n",
       "      <td>24.0</td>\n",
       "      <td>2500.0</td>\n",
       "      <td>1.0</td>\n",
       "      <td>-2.5</td>\n",
       "      <td>13.0</td>\n",
       "      <td>2.21</td>\n",
       "      <td>0.43</td>\n",
       "      <td>2367.81</td>\n",
       "      <td>1.0268</td>\n",
       "    </tr>\n",
       "    <tr>\n",
       "      <th>3</th>\n",
       "      <td>3.0</td>\n",
       "      <td>28.0</td>\n",
       "      <td>1500.0</td>\n",
       "      <td>3.0</td>\n",
       "      <td>-2.5</td>\n",
       "      <td>13.0</td>\n",
       "      <td>2.36</td>\n",
       "      <td>0.47</td>\n",
       "      <td>5353.33</td>\n",
       "      <td>1.5244</td>\n",
       "    </tr>\n",
       "    <tr>\n",
       "      <th>4</th>\n",
       "      <td>4.0</td>\n",
       "      <td>6.0</td>\n",
       "      <td>2500.0</td>\n",
       "      <td>3.0</td>\n",
       "      <td>-2.5</td>\n",
       "      <td>13.0</td>\n",
       "      <td>3.40</td>\n",
       "      <td>0.76</td>\n",
       "      <td>6189.06</td>\n",
       "      <td>0.9088</td>\n",
       "    </tr>\n",
       "  </tbody>\n",
       "</table>\n",
       "</div>"
      ],
      "text/plain": [
       "   Std   Run  Laser power [W]  Cutting speed [m/min]  Focal position [mm]  \\\n",
       "0  NaN   NaN              NaN                    NaN                  NaN   \n",
       "1  1.0  11.0           1500.0                    1.0                 -2.5   \n",
       "2  2.0  24.0           2500.0                    1.0                 -2.5   \n",
       "3  3.0  28.0           1500.0                    3.0                 -2.5   \n",
       "4  4.0   6.0           2500.0                    3.0                 -2.5   \n",
       "\n",
       "   Gas pressure [bar]  Rz [µm]  Ra [µm]        MRR  DD [%]  \n",
       "0                 NaN      NaN      NaN  [mm3/min]     NaN  \n",
       "1                13.0     3.69     0.74     2020.3  1.0264  \n",
       "2                13.0     2.21     0.43    2367.81  1.0268  \n",
       "3                13.0     2.36     0.47    5353.33  1.5244  \n",
       "4                13.0     3.40     0.76    6189.06  0.9088  "
      ]
     },
     "execution_count": 5,
     "metadata": {},
     "output_type": "execute_result"
    }
   ],
   "source": [
    "df =pd.read_excel('Laser.xlsx')\n",
    "df.head()"
   ]
  },
  {
   "cell_type": "code",
   "execution_count": 6,
   "id": "97284af3",
   "metadata": {},
   "outputs": [
    {
     "name": "stdout",
     "output_type": "stream",
     "text": [
      "<class 'pandas.core.frame.DataFrame'>\n",
      "RangeIndex: 30 entries, 0 to 29\n",
      "Data columns (total 10 columns):\n",
      " #   Column                 Non-Null Count  Dtype  \n",
      "---  ------                 --------------  -----  \n",
      " 0   Std                    29 non-null     float64\n",
      " 1   Run                    29 non-null     float64\n",
      " 2   Laser power [W]        29 non-null     float64\n",
      " 3   Cutting speed [m/min]  29 non-null     float64\n",
      " 4   Focal position [mm]    29 non-null     float64\n",
      " 5   Gas pressure [bar]     29 non-null     float64\n",
      " 6   Rz [µm]                29 non-null     float64\n",
      " 7   Ra [µm]                29 non-null     float64\n",
      " 8   MRR                    30 non-null     object \n",
      " 9   DD [%]                 29 non-null     float64\n",
      "dtypes: float64(9), object(1)\n",
      "memory usage: 2.5+ KB\n"
     ]
    }
   ],
   "source": [
    "df.info()"
   ]
  },
  {
   "cell_type": "code",
   "execution_count": 7,
   "id": "c943cd5a",
   "metadata": {},
   "outputs": [
    {
     "data": {
      "text/html": [
       "<div>\n",
       "<style scoped>\n",
       "    .dataframe tbody tr th:only-of-type {\n",
       "        vertical-align: middle;\n",
       "    }\n",
       "\n",
       "    .dataframe tbody tr th {\n",
       "        vertical-align: top;\n",
       "    }\n",
       "\n",
       "    .dataframe thead th {\n",
       "        text-align: right;\n",
       "    }\n",
       "</style>\n",
       "<table border=\"1\" class=\"dataframe\">\n",
       "  <thead>\n",
       "    <tr style=\"text-align: right;\">\n",
       "      <th></th>\n",
       "      <th>Std</th>\n",
       "      <th>Run</th>\n",
       "      <th>Laser power [W]</th>\n",
       "      <th>Cutting speed [m/min]</th>\n",
       "      <th>Focal position [mm]</th>\n",
       "      <th>Gas pressure [bar]</th>\n",
       "      <th>Rz [µm]</th>\n",
       "      <th>Ra [µm]</th>\n",
       "      <th>MRR</th>\n",
       "      <th>DD [%]</th>\n",
       "    </tr>\n",
       "  </thead>\n",
       "  <tbody>\n",
       "    <tr>\n",
       "      <th>1</th>\n",
       "      <td>1.0</td>\n",
       "      <td>11.0</td>\n",
       "      <td>1500.0</td>\n",
       "      <td>1.0</td>\n",
       "      <td>-2.5</td>\n",
       "      <td>13.0</td>\n",
       "      <td>3.69</td>\n",
       "      <td>0.74</td>\n",
       "      <td>2020.3</td>\n",
       "      <td>1.0264</td>\n",
       "    </tr>\n",
       "    <tr>\n",
       "      <th>2</th>\n",
       "      <td>2.0</td>\n",
       "      <td>24.0</td>\n",
       "      <td>2500.0</td>\n",
       "      <td>1.0</td>\n",
       "      <td>-2.5</td>\n",
       "      <td>13.0</td>\n",
       "      <td>2.21</td>\n",
       "      <td>0.43</td>\n",
       "      <td>2367.81</td>\n",
       "      <td>1.0268</td>\n",
       "    </tr>\n",
       "    <tr>\n",
       "      <th>3</th>\n",
       "      <td>3.0</td>\n",
       "      <td>28.0</td>\n",
       "      <td>1500.0</td>\n",
       "      <td>3.0</td>\n",
       "      <td>-2.5</td>\n",
       "      <td>13.0</td>\n",
       "      <td>2.36</td>\n",
       "      <td>0.47</td>\n",
       "      <td>5353.33</td>\n",
       "      <td>1.5244</td>\n",
       "    </tr>\n",
       "    <tr>\n",
       "      <th>4</th>\n",
       "      <td>4.0</td>\n",
       "      <td>6.0</td>\n",
       "      <td>2500.0</td>\n",
       "      <td>3.0</td>\n",
       "      <td>-2.5</td>\n",
       "      <td>13.0</td>\n",
       "      <td>3.40</td>\n",
       "      <td>0.76</td>\n",
       "      <td>6189.06</td>\n",
       "      <td>0.9088</td>\n",
       "    </tr>\n",
       "    <tr>\n",
       "      <th>5</th>\n",
       "      <td>5.0</td>\n",
       "      <td>14.0</td>\n",
       "      <td>2000.0</td>\n",
       "      <td>2.0</td>\n",
       "      <td>-3.5</td>\n",
       "      <td>10.0</td>\n",
       "      <td>4.74</td>\n",
       "      <td>0.93</td>\n",
       "      <td>4539.1</td>\n",
       "      <td>1.6582</td>\n",
       "    </tr>\n",
       "  </tbody>\n",
       "</table>\n",
       "</div>"
      ],
      "text/plain": [
       "   Std   Run  Laser power [W]  Cutting speed [m/min]  Focal position [mm]  \\\n",
       "1  1.0  11.0           1500.0                    1.0                 -2.5   \n",
       "2  2.0  24.0           2500.0                    1.0                 -2.5   \n",
       "3  3.0  28.0           1500.0                    3.0                 -2.5   \n",
       "4  4.0   6.0           2500.0                    3.0                 -2.5   \n",
       "5  5.0  14.0           2000.0                    2.0                 -3.5   \n",
       "\n",
       "   Gas pressure [bar]  Rz [µm]  Ra [µm]      MRR  DD [%]  \n",
       "1                13.0     3.69     0.74   2020.3  1.0264  \n",
       "2                13.0     2.21     0.43  2367.81  1.0268  \n",
       "3                13.0     2.36     0.47  5353.33  1.5244  \n",
       "4                13.0     3.40     0.76  6189.06  0.9088  \n",
       "5                10.0     4.74     0.93   4539.1  1.6582  "
      ]
     },
     "execution_count": 7,
     "metadata": {},
     "output_type": "execute_result"
    }
   ],
   "source": [
    "df.dropna(inplace=True)\n",
    "df.head()"
   ]
  },
  {
   "cell_type": "code",
   "execution_count": 8,
   "id": "a4d865c2",
   "metadata": {},
   "outputs": [
    {
     "data": {
      "text/html": [
       "<div>\n",
       "<style scoped>\n",
       "    .dataframe tbody tr th:only-of-type {\n",
       "        vertical-align: middle;\n",
       "    }\n",
       "\n",
       "    .dataframe tbody tr th {\n",
       "        vertical-align: top;\n",
       "    }\n",
       "\n",
       "    .dataframe thead th {\n",
       "        text-align: right;\n",
       "    }\n",
       "</style>\n",
       "<table border=\"1\" class=\"dataframe\">\n",
       "  <thead>\n",
       "    <tr style=\"text-align: right;\">\n",
       "      <th></th>\n",
       "      <th>Std</th>\n",
       "      <th>Run</th>\n",
       "      <th>Laser power [W]</th>\n",
       "      <th>Cutting speed [m/min]</th>\n",
       "      <th>Focal position [mm]</th>\n",
       "      <th>Gas pressure [bar]</th>\n",
       "      <th>Rz [µm]</th>\n",
       "      <th>Ra [µm]</th>\n",
       "      <th>DD [%]</th>\n",
       "    </tr>\n",
       "  </thead>\n",
       "  <tbody>\n",
       "    <tr>\n",
       "      <th>count</th>\n",
       "      <td>29.000000</td>\n",
       "      <td>29.000000</td>\n",
       "      <td>29.000000</td>\n",
       "      <td>29.000000</td>\n",
       "      <td>29.000000</td>\n",
       "      <td>29.000000</td>\n",
       "      <td>29.000000</td>\n",
       "      <td>29.000000</td>\n",
       "      <td>29.000000</td>\n",
       "    </tr>\n",
       "    <tr>\n",
       "      <th>mean</th>\n",
       "      <td>15.000000</td>\n",
       "      <td>15.000000</td>\n",
       "      <td>2000.000000</td>\n",
       "      <td>2.000000</td>\n",
       "      <td>-2.500000</td>\n",
       "      <td>13.000000</td>\n",
       "      <td>3.394828</td>\n",
       "      <td>0.688966</td>\n",
       "      <td>1.180128</td>\n",
       "    </tr>\n",
       "    <tr>\n",
       "      <th>std</th>\n",
       "      <td>8.514693</td>\n",
       "      <td>8.514693</td>\n",
       "      <td>327.326835</td>\n",
       "      <td>0.654654</td>\n",
       "      <td>0.654654</td>\n",
       "      <td>1.963961</td>\n",
       "      <td>0.828793</td>\n",
       "      <td>0.171034</td>\n",
       "      <td>0.262994</td>\n",
       "    </tr>\n",
       "    <tr>\n",
       "      <th>min</th>\n",
       "      <td>1.000000</td>\n",
       "      <td>1.000000</td>\n",
       "      <td>1500.000000</td>\n",
       "      <td>1.000000</td>\n",
       "      <td>-3.500000</td>\n",
       "      <td>10.000000</td>\n",
       "      <td>2.210000</td>\n",
       "      <td>0.430000</td>\n",
       "      <td>0.735100</td>\n",
       "    </tr>\n",
       "    <tr>\n",
       "      <th>25%</th>\n",
       "      <td>8.000000</td>\n",
       "      <td>8.000000</td>\n",
       "      <td>2000.000000</td>\n",
       "      <td>2.000000</td>\n",
       "      <td>-2.500000</td>\n",
       "      <td>13.000000</td>\n",
       "      <td>2.790000</td>\n",
       "      <td>0.570000</td>\n",
       "      <td>0.994500</td>\n",
       "    </tr>\n",
       "    <tr>\n",
       "      <th>50%</th>\n",
       "      <td>15.000000</td>\n",
       "      <td>15.000000</td>\n",
       "      <td>2000.000000</td>\n",
       "      <td>2.000000</td>\n",
       "      <td>-2.500000</td>\n",
       "      <td>13.000000</td>\n",
       "      <td>3.210000</td>\n",
       "      <td>0.660000</td>\n",
       "      <td>1.058200</td>\n",
       "    </tr>\n",
       "    <tr>\n",
       "      <th>75%</th>\n",
       "      <td>22.000000</td>\n",
       "      <td>22.000000</td>\n",
       "      <td>2000.000000</td>\n",
       "      <td>2.000000</td>\n",
       "      <td>-2.500000</td>\n",
       "      <td>13.000000</td>\n",
       "      <td>3.890000</td>\n",
       "      <td>0.820000</td>\n",
       "      <td>1.344500</td>\n",
       "    </tr>\n",
       "    <tr>\n",
       "      <th>max</th>\n",
       "      <td>29.000000</td>\n",
       "      <td>29.000000</td>\n",
       "      <td>2500.000000</td>\n",
       "      <td>3.000000</td>\n",
       "      <td>-1.500000</td>\n",
       "      <td>16.000000</td>\n",
       "      <td>4.980000</td>\n",
       "      <td>1.030000</td>\n",
       "      <td>1.914200</td>\n",
       "    </tr>\n",
       "  </tbody>\n",
       "</table>\n",
       "</div>"
      ],
      "text/plain": [
       "             Std        Run  Laser power [W]  Cutting speed [m/min]  \\\n",
       "count  29.000000  29.000000        29.000000              29.000000   \n",
       "mean   15.000000  15.000000      2000.000000               2.000000   \n",
       "std     8.514693   8.514693       327.326835               0.654654   \n",
       "min     1.000000   1.000000      1500.000000               1.000000   \n",
       "25%     8.000000   8.000000      2000.000000               2.000000   \n",
       "50%    15.000000  15.000000      2000.000000               2.000000   \n",
       "75%    22.000000  22.000000      2000.000000               2.000000   \n",
       "max    29.000000  29.000000      2500.000000               3.000000   \n",
       "\n",
       "       Focal position [mm]  Gas pressure [bar]    Rz [µm]    Ra [µm]  \\\n",
       "count            29.000000           29.000000  29.000000  29.000000   \n",
       "mean             -2.500000           13.000000   3.394828   0.688966   \n",
       "std               0.654654            1.963961   0.828793   0.171034   \n",
       "min              -3.500000           10.000000   2.210000   0.430000   \n",
       "25%              -2.500000           13.000000   2.790000   0.570000   \n",
       "50%              -2.500000           13.000000   3.210000   0.660000   \n",
       "75%              -2.500000           13.000000   3.890000   0.820000   \n",
       "max              -1.500000           16.000000   4.980000   1.030000   \n",
       "\n",
       "          DD [%]  \n",
       "count  29.000000  \n",
       "mean    1.180128  \n",
       "std     0.262994  \n",
       "min     0.735100  \n",
       "25%     0.994500  \n",
       "50%     1.058200  \n",
       "75%     1.344500  \n",
       "max     1.914200  "
      ]
     },
     "execution_count": 8,
     "metadata": {},
     "output_type": "execute_result"
    }
   ],
   "source": [
    "df.describe()"
   ]
  },
  {
   "cell_type": "code",
   "execution_count": 9,
   "id": "eeafacde",
   "metadata": {},
   "outputs": [],
   "source": [
    "X = df[['Laser power [W]', 'Cutting speed [m/min]', 'Focal position [mm]', 'Gas pressure [bar]']]\n",
    "y= df[ 'Ra [µm]']"
   ]
  },
  {
   "cell_type": "markdown",
   "id": "2939187f",
   "metadata": {},
   "source": [
    "# SCALING THE INPUTS"
   ]
  },
  {
   "cell_type": "code",
   "execution_count": 10,
   "id": "e203fad6",
   "metadata": {},
   "outputs": [],
   "source": [
    "from sklearn.preprocessing import MinMaxScaler\n",
    "scaler=MinMaxScaler()"
   ]
  },
  {
   "cell_type": "code",
   "execution_count": 11,
   "id": "710b4463",
   "metadata": {},
   "outputs": [],
   "source": [
    "X=scaler.fit_transform(X)"
   ]
  },
  {
   "cell_type": "markdown",
   "id": "d939bfc0",
   "metadata": {},
   "source": [
    "# SPLITTING THE DATA AND RUNNING THE MODEL"
   ]
  },
  {
   "cell_type": "code",
   "execution_count": 12,
   "id": "3dd77766",
   "metadata": {},
   "outputs": [],
   "source": [
    "from sklearn.model_selection import train_test_split"
   ]
  },
  {
   "cell_type": "code",
   "execution_count": 13,
   "id": "7f12cd8b",
   "metadata": {},
   "outputs": [],
   "source": [
    "X_train, X_test, y_train, y_test = train_test_split(X, y, test_size=0.3, random_state=101)"
   ]
  },
  {
   "cell_type": "code",
   "execution_count": 14,
   "id": "d51bb8f0",
   "metadata": {},
   "outputs": [],
   "source": [
    "from sklearn.neighbors import KNeighborsRegressor"
   ]
  },
  {
   "cell_type": "code",
   "execution_count": 55,
   "id": "1a4b28e9",
   "metadata": {},
   "outputs": [],
   "source": [
    "mdl = KNeighborsRegressor(n_neighbors=7)"
   ]
  },
  {
   "cell_type": "code",
   "execution_count": 56,
   "id": "d7b555b9",
   "metadata": {},
   "outputs": [
    {
     "data": {
      "text/html": [
       "<style>#sk-container-id-9 {color: black;}#sk-container-id-9 pre{padding: 0;}#sk-container-id-9 div.sk-toggleable {background-color: white;}#sk-container-id-9 label.sk-toggleable__label {cursor: pointer;display: block;width: 100%;margin-bottom: 0;padding: 0.3em;box-sizing: border-box;text-align: center;}#sk-container-id-9 label.sk-toggleable__label-arrow:before {content: \"▸\";float: left;margin-right: 0.25em;color: #696969;}#sk-container-id-9 label.sk-toggleable__label-arrow:hover:before {color: black;}#sk-container-id-9 div.sk-estimator:hover label.sk-toggleable__label-arrow:before {color: black;}#sk-container-id-9 div.sk-toggleable__content {max-height: 0;max-width: 0;overflow: hidden;text-align: left;background-color: #f0f8ff;}#sk-container-id-9 div.sk-toggleable__content pre {margin: 0.2em;color: black;border-radius: 0.25em;background-color: #f0f8ff;}#sk-container-id-9 input.sk-toggleable__control:checked~div.sk-toggleable__content {max-height: 200px;max-width: 100%;overflow: auto;}#sk-container-id-9 input.sk-toggleable__control:checked~label.sk-toggleable__label-arrow:before {content: \"▾\";}#sk-container-id-9 div.sk-estimator input.sk-toggleable__control:checked~label.sk-toggleable__label {background-color: #d4ebff;}#sk-container-id-9 div.sk-label input.sk-toggleable__control:checked~label.sk-toggleable__label {background-color: #d4ebff;}#sk-container-id-9 input.sk-hidden--visually {border: 0;clip: rect(1px 1px 1px 1px);clip: rect(1px, 1px, 1px, 1px);height: 1px;margin: -1px;overflow: hidden;padding: 0;position: absolute;width: 1px;}#sk-container-id-9 div.sk-estimator {font-family: monospace;background-color: #f0f8ff;border: 1px dotted black;border-radius: 0.25em;box-sizing: border-box;margin-bottom: 0.5em;}#sk-container-id-9 div.sk-estimator:hover {background-color: #d4ebff;}#sk-container-id-9 div.sk-parallel-item::after {content: \"\";width: 100%;border-bottom: 1px solid gray;flex-grow: 1;}#sk-container-id-9 div.sk-label:hover label.sk-toggleable__label {background-color: #d4ebff;}#sk-container-id-9 div.sk-serial::before {content: \"\";position: absolute;border-left: 1px solid gray;box-sizing: border-box;top: 0;bottom: 0;left: 50%;z-index: 0;}#sk-container-id-9 div.sk-serial {display: flex;flex-direction: column;align-items: center;background-color: white;padding-right: 0.2em;padding-left: 0.2em;position: relative;}#sk-container-id-9 div.sk-item {position: relative;z-index: 1;}#sk-container-id-9 div.sk-parallel {display: flex;align-items: stretch;justify-content: center;background-color: white;position: relative;}#sk-container-id-9 div.sk-item::before, #sk-container-id-9 div.sk-parallel-item::before {content: \"\";position: absolute;border-left: 1px solid gray;box-sizing: border-box;top: 0;bottom: 0;left: 50%;z-index: -1;}#sk-container-id-9 div.sk-parallel-item {display: flex;flex-direction: column;z-index: 1;position: relative;background-color: white;}#sk-container-id-9 div.sk-parallel-item:first-child::after {align-self: flex-end;width: 50%;}#sk-container-id-9 div.sk-parallel-item:last-child::after {align-self: flex-start;width: 50%;}#sk-container-id-9 div.sk-parallel-item:only-child::after {width: 0;}#sk-container-id-9 div.sk-dashed-wrapped {border: 1px dashed gray;margin: 0 0.4em 0.5em 0.4em;box-sizing: border-box;padding-bottom: 0.4em;background-color: white;}#sk-container-id-9 div.sk-label label {font-family: monospace;font-weight: bold;display: inline-block;line-height: 1.2em;}#sk-container-id-9 div.sk-label-container {text-align: center;}#sk-container-id-9 div.sk-container {/* jupyter's `normalize.less` sets `[hidden] { display: none; }` but bootstrap.min.css set `[hidden] { display: none !important; }` so we also need the `!important` here to be able to override the default hidden behavior on the sphinx rendered scikit-learn.org. See: https://github.com/scikit-learn/scikit-learn/issues/21755 */display: inline-block !important;position: relative;}#sk-container-id-9 div.sk-text-repr-fallback {display: none;}</style><div id=\"sk-container-id-9\" class=\"sk-top-container\"><div class=\"sk-text-repr-fallback\"><pre>KNeighborsRegressor(n_neighbors=7)</pre><b>In a Jupyter environment, please rerun this cell to show the HTML representation or trust the notebook. <br />On GitHub, the HTML representation is unable to render, please try loading this page with nbviewer.org.</b></div><div class=\"sk-container\" hidden><div class=\"sk-item\"><div class=\"sk-estimator sk-toggleable\"><input class=\"sk-toggleable__control sk-hidden--visually\" id=\"sk-estimator-id-9\" type=\"checkbox\" checked><label for=\"sk-estimator-id-9\" class=\"sk-toggleable__label sk-toggleable__label-arrow\">KNeighborsRegressor</label><div class=\"sk-toggleable__content\"><pre>KNeighborsRegressor(n_neighbors=7)</pre></div></div></div></div></div>"
      ],
      "text/plain": [
       "KNeighborsRegressor(n_neighbors=7)"
      ]
     },
     "execution_count": 56,
     "metadata": {},
     "output_type": "execute_result"
    }
   ],
   "source": [
    "mdl.fit(X_train,y_train)"
   ]
  },
  {
   "cell_type": "code",
   "execution_count": 57,
   "id": "3cf18e19",
   "metadata": {},
   "outputs": [],
   "source": [
    "pred = mdl.predict(X_test)"
   ]
  },
  {
   "cell_type": "code",
   "execution_count": 58,
   "id": "587647db",
   "metadata": {},
   "outputs": [
    {
     "name": "stdout",
     "output_type": "stream",
     "text": [
      "20    0.45\n",
      "25    0.56\n",
      "8     0.67\n",
      "28    0.61\n",
      "3     0.47\n",
      "27    0.59\n",
      "23    0.89\n",
      "26    0.58\n",
      "11    0.68\n",
      "Name: Ra [µm], dtype: float64\n"
     ]
    }
   ],
   "source": [
    "print(y_test)"
   ]
  },
  {
   "cell_type": "code",
   "execution_count": 59,
   "id": "bcbaf32b",
   "metadata": {},
   "outputs": [
    {
     "name": "stdout",
     "output_type": "stream",
     "text": [
      "[0.66714286 0.73714286 0.63       0.73714286 0.73142857 0.73714286\n",
      " 0.68142857 0.73714286 0.74428571]\n"
     ]
    }
   ],
   "source": [
    "print(pred)"
   ]
  },
  {
   "cell_type": "markdown",
   "id": "2373568c",
   "metadata": {},
   "source": [
    "# MODEL EVALUATION"
   ]
  },
  {
   "cell_type": "code",
   "execution_count": 60,
   "id": "ce9d6389",
   "metadata": {},
   "outputs": [],
   "source": [
    "from sklearn import metrics"
   ]
  },
  {
   "cell_type": "code",
   "execution_count": 66,
   "id": "671876b8",
   "metadata": {},
   "outputs": [
    {
     "data": {
      "text/plain": [
       "-0.903175530228443"
      ]
     },
     "execution_count": 66,
     "metadata": {},
     "output_type": "execute_result"
    }
   ],
   "source": [
    "metrics.r2_score(y_test,pred)     #very bad"
   ]
  },
  {
   "cell_type": "code",
   "execution_count": 62,
   "id": "4654c895",
   "metadata": {},
   "outputs": [
    {
     "data": {
      "text/plain": [
       "0.15555555555555547"
      ]
     },
     "execution_count": 62,
     "metadata": {},
     "output_type": "execute_result"
    }
   ],
   "source": [
    "metrics.mean_absolute_error(y_test,pred)"
   ]
  },
  {
   "cell_type": "code",
   "execution_count": 64,
   "id": "776d69a0",
   "metadata": {},
   "outputs": [
    {
     "data": {
      "text/plain": [
       "0.028735600907029455"
      ]
     },
     "execution_count": 64,
     "metadata": {},
     "output_type": "execute_result"
    }
   ],
   "source": [
    "metrics.mean_squared_error(y_test,pred)"
   ]
  },
  {
   "cell_type": "code",
   "execution_count": 65,
   "id": "afb371cc",
   "metadata": {},
   "outputs": [
    {
     "data": {
      "text/plain": [
       "0.16951578365163952"
      ]
     },
     "execution_count": 65,
     "metadata": {},
     "output_type": "execute_result"
    }
   ],
   "source": [
    "np.sqrt(metrics.mean_squared_error(y_test,pred))"
   ]
  },
  {
   "cell_type": "code",
   "execution_count": null,
   "id": "79c88c4e",
   "metadata": {},
   "outputs": [],
   "source": [
    "#the model is not doing good predicting the RA"
   ]
  }
 ],
 "metadata": {
  "kernelspec": {
   "display_name": "Python 3 (ipykernel)",
   "language": "python",
   "name": "python3"
  },
  "language_info": {
   "codemirror_mode": {
    "name": "ipython",
    "version": 3
   },
   "file_extension": ".py",
   "mimetype": "text/x-python",
   "name": "python",
   "nbconvert_exporter": "python",
   "pygments_lexer": "ipython3",
   "version": "3.11.5"
  }
 },
 "nbformat": 4,
 "nbformat_minor": 5
}
